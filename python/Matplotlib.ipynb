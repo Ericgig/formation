{
 "cells": [
  {
   "cell_type": "code",
   "execution_count": null,
   "metadata": {},
   "outputs": [],
   "source": [
    "import matplotlib.pyplot as plt\n",
    "import numpy as np\n",
    "%matplotlib inline"
   ]
  },
  {
   "cell_type": "markdown",
   "metadata": {},
   "source": [
    "# plot, scatter, hist"
   ]
  },
  {
   "cell_type": "code",
   "execution_count": null,
   "metadata": {},
   "outputs": [],
   "source": [
    "t = np.linspace(0,2*np.pi,21)\n",
    "s = np.sin(t)\n",
    "c = np.cos(t)\n",
    "plt.plot(t,s,\"o-.r\")\n",
    "plt.plot(t,c,\":*g\")\n",
    "plt.show()"
   ]
  },
  {
   "cell_type": "code",
   "execution_count": null,
   "metadata": {},
   "outputs": [],
   "source": [
    "linestyle = ['-', '--', '-.', ':', '']\n",
    "marker = ['.', ',', 'o', 'v', '^', '<', '>', 's', 'p', \n",
    "          '*', 'h', 'H', '+', 'x', 'D', 'd', '|', '_']\n",
    "color = ['b', 'g', 'r', 'c', 'm', 'y', 'k', 'w']\n",
    "\n",
    "for i in range(len(linestyle)):\n",
    "    phi = 2 * np.pi * i / len(linestyle)\n",
    "    s = np.sin(t + phi)\n",
    "    plt.plot(t, s, linestyle[i]+\"x\")"
   ]
  },
  {
   "cell_type": "code",
   "execution_count": null,
   "metadata": {},
   "outputs": [],
   "source": [
    "N = 200\n",
    "x = np.random.rand(N)\n",
    "y = np.random.randn(N)\n",
    "c = np.random.randint(1, 5, size=N)\n",
    "plt.scatter(x, y+(0.5+x)**c, c=c, s=(0.5+x)*20)"
   ]
  },
  {
   "cell_type": "code",
   "execution_count": null,
   "metadata": {},
   "outputs": [],
   "source": [
    "plt.hist(np.random.randn(10000), bins=51)\n",
    "t = np.linspace(-4,4,801)\n",
    "plt.plot(t, 600*np.exp(-t**2/2))"
   ]
  },
  {
   "cell_type": "code",
   "execution_count": null,
   "metadata": {},
   "outputs": [],
   "source": [
    "# legend\n",
    "t = np.linspace(0,1,101)\n",
    "plt.plot(t, t, label=\"linear\")\n",
    "plt.plot(t, t**2, label=\"square\")\n",
    "plt.plot(t, t**3, label=\"cubic\")\n",
    "plt.legend(loc=\"best\")\n",
    "plt.title(\"title\")\n",
    "plt.show()"
   ]
  },
  {
   "cell_type": "markdown",
   "metadata": {},
   "source": [
    "# Images"
   ]
  },
  {
   "cell_type": "code",
   "execution_count": null,
   "metadata": {},
   "outputs": [],
   "source": [
    "def f(N=401):\n",
    "    i = int(N/200)\n",
    "    t = np.linspace(-i,i,N)\n",
    "    x = np.outer(t, np.ones(N))\n",
    "    y = np.outer(np.ones(N), t)\n",
    "    return np.sin((-(x-1)-y**2)**2) + np.sin(x+y)/2\n",
    "\n",
    "plt.imshow(f(), cmap=\"jet\")"
   ]
  },
  {
   "cell_type": "code",
   "execution_count": null,
   "metadata": {},
   "outputs": [],
   "source": [
    "def fractal(w=400, h=300):\n",
    "    frac = np.zeros((w,h,3))\n",
    "    cX, cY = -0.7, 0.29 #0.27015\n",
    "    moveX, moveY = 0.0, 0.0\n",
    "    maxIter = 255\n",
    "    for x in range(w): \n",
    "        for y in range(h): \n",
    "            zx = 1.5*(x - w/2)/(0.5*w) + moveX \n",
    "            zy = 1.0*(y - h/2)/(0.5*h) + moveY \n",
    "            i = maxIter \n",
    "            while zx*zx + zy*zy < 4 and i > 1: \n",
    "                tmp = zx*zx - zy*zy + cX \n",
    "                zy,zx = 2.0*zx*zy + cY, tmp \n",
    "                i -= 1\n",
    "            f = 1-i/255\n",
    "            frac[x,y,0] = 1-(1-f)**2\n",
    "            frac[x,y,1] = f*f\n",
    "            frac[x,y,2] = f*(np.cos(f*np.pi*2)/2+0.5)\n",
    "    return np.einsum(\"ijk->jik\",frac)\n",
    "\n",
    "frac = fractal()\n",
    "print(frac.shape)\n",
    "plt.imshow(frac)"
   ]
  },
  {
   "cell_type": "markdown",
   "metadata": {},
   "source": [
    "# Saving, ploting"
   ]
  },
  {
   "cell_type": "code",
   "execution_count": null,
   "metadata": {},
   "outputs": [],
   "source": [
    "plt.imshow(frac)\n",
    "plt.imshow(f(), cmap=\"jet\")"
   ]
  },
  {
   "cell_type": "code",
   "execution_count": null,
   "metadata": {},
   "outputs": [],
   "source": [
    "plt.imshow(frac)\n",
    "plt.show()\n",
    "plt.imshow(f(), cmap=\"jet\")"
   ]
  },
  {
   "cell_type": "code",
   "execution_count": null,
   "metadata": {},
   "outputs": [],
   "source": [
    "plt.imshow(A)\n",
    "plt.savefig(\"../fractal.jpeg\")\n",
    "!ls ../*.jpeg"
   ]
  },
  {
   "cell_type": "markdown",
   "metadata": {},
   "source": [
    "# figure, axes"
   ]
  },
  {
   "cell_type": "code",
   "execution_count": null,
   "metadata": {},
   "outputs": [],
   "source": [
    "fig, axs = plt.subplots(nrows=2, ncols=2, constrained_layout=True)\n",
    "axs[0,0].plot([0,2,1])\n",
    "axs[0,0].set_xlabel('x-label', fontsize=12)\n",
    "axs[0,0].set_ylabel('y-label', fontsize=12)\n",
    "axs[0,0].set_title('plot', fontsize=14)\n",
    "\n",
    "axs[0,1].scatter([0,1,2,2],[0,2,1,2])\n",
    "axs[0,1].set_xlabel('x-label', fontsize=12)\n",
    "axs[0,1].set_ylabel('y-label', fontsize=12)\n",
    "axs[0,1].set_title('scatter', fontsize=14)\n",
    "\n",
    "axs[1,0].hist(np.random.randn(100))\n",
    "axs[1,0].set_xlabel('x-label', fontsize=12)\n",
    "axs[1,0].set_ylabel('y-label', fontsize=12)\n",
    "axs[1,0].set_title('hist', fontsize=14)\n",
    "\n",
    "axs[1,1].imshow(frac)\n",
    "axs[1,1].set_xlabel('x-label', fontsize=12)\n",
    "axs[1,1].set_ylabel('y-label', fontsize=12)\n",
    "axs[1,1].set_title('imshow', fontsize=14)\n",
    "\n",
    "fig.savefig(\"mixed.jpeg\")"
   ]
  },
  {
   "cell_type": "markdown",
   "metadata": {},
   "source": [
    "## Exercise\n",
    "Faire un graphique présentant les couleurs et markeurs."
   ]
  },
  {
   "cell_type": "code",
   "execution_count": null,
   "metadata": {},
   "outputs": [],
   "source": []
  },
  {
   "cell_type": "markdown",
   "metadata": {},
   "source": [
    "Faire un graphique des fonctions trigononetrique (sin, arcsin, cos, arccos, tan, arctan). Bien identifier chaque fonctions.\n"
   ]
  },
  {
   "cell_type": "code",
   "execution_count": null,
   "metadata": {},
   "outputs": [],
   "source": []
  },
  {
   "cell_type": "markdown",
   "metadata": {},
   "source": [
    "La function 'blackbox(N)' sort N mesures avec 3 données par mesures. shape = (N,3).\n",
    "Utiliser des graphiques pour étudier ces données."
   ]
  },
  {
   "cell_type": "code",
   "execution_count": null,
   "metadata": {},
   "outputs": [],
   "source": [
    "def blackbox(N):\n",
    "    out = np.random.randn(N,3)*0.001\n",
    "    t = np.random.rand(N)*2*np.pi\n",
    "    p = np.arcsin(np.random.rand(N)*2-1)\n",
    "    m = (np.sin(t/2)**2+np.sin(3*t/2)**2/2+0.2)\n",
    "    m = (2*p/np.pi)**2+m*(1-(2*p/np.pi)**2)\n",
    "    out[:,0] += m*np.sin(t)*np.cos(p)\n",
    "    out[:,1] += m*np.cos(t)*np.cos(p)\n",
    "    out[:,2] += m*np.sin(p)\n",
    "    return out"
   ]
  },
  {
   "cell_type": "code",
   "execution_count": null,
   "metadata": {},
   "outputs": [],
   "source": []
  }
 ],
 "metadata": {
  "kernelspec": {
   "display_name": "Python 3",
   "language": "python",
   "name": "python3"
  },
  "language_info": {
   "codemirror_mode": {
    "name": "ipython",
    "version": 3
   },
   "file_extension": ".py",
   "mimetype": "text/x-python",
   "name": "python",
   "nbconvert_exporter": "python",
   "pygments_lexer": "ipython3",
   "version": "3.7.3"
  }
 },
 "nbformat": 4,
 "nbformat_minor": 2
}
