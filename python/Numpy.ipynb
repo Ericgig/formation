{
 "cells": [
  {
   "cell_type": "code",
   "execution_count": null,
   "metadata": {},
   "outputs": [],
   "source": [
    "import numpy as np\n",
    "import matplotlib.pyplot as plt\n",
    "%matplotlib inline"
   ]
  },
  {
   "cell_type": "markdown",
   "metadata": {},
   "source": [
    "## timing"
   ]
  },
  {
   "cell_type": "code",
   "execution_count": null,
   "metadata": {},
   "outputs": [],
   "source": [
    "vec_numpy = np.random.rand(1000)\n",
    "vec_list = list(vec_numpy)\n",
    "mat_numpy = np.random.rand(100,100)\n",
    "mat_list = [list(line) for line in mat_numpy]"
   ]
  },
  {
   "cell_type": "code",
   "execution_count": null,
   "metadata": {},
   "outputs": [],
   "source": [
    "def sum_numpy(vec):\n",
    "    sum_ = 0.\n",
    "    for elem in vec:\n",
    "        sum_ += elem\n",
    "    return sum_\n",
    "\n",
    "def sum_list(vec):\n",
    "    sum_ = 0.\n",
    "    for elem in vec:\n",
    "        sum_ += elem\n",
    "    return sum_\n",
    "\n",
    "print(sum_numpy(vec_numpy), sum_list(vec_list), np.sum(vec_numpy))"
   ]
  },
  {
   "cell_type": "code",
   "execution_count": null,
   "metadata": {},
   "outputs": [],
   "source": [
    "%timeit sum_numpy(vec_numpy)\n",
    "%timeit sum_list(vec_list)\n",
    "%timeit np.sum(vec_numpy)"
   ]
  },
  {
   "cell_type": "code",
   "execution_count": null,
   "metadata": {},
   "outputs": [],
   "source": [
    "mat_numpy = np.random.rand(10,10)\n",
    "mat_list = [list(line) for line in mat_numpy]\n",
    "\n",
    "def matmul(mat1, mat2):\n",
    "    out = np.zeros((mat1.shape[0], mat2.shape[1]))\n",
    "    for i in range(mat1.shape[0]):\n",
    "        for j in range(mat2.shape[1]):\n",
    "            for k in range(mat1.shape[1]):\n",
    "                out[i,j] += mat1[i,k] * mat2[k,j]\n",
    "    return out\n",
    "\n",
    "def matmul_list(mat1, mat2):\n",
    "    out = []\n",
    "    for i in range(len(mat1)):\n",
    "        out.append([0.] * len(mat2[0]))\n",
    "    for i in range(len(mat1)):\n",
    "        for j in range(len(mat2[0])):\n",
    "            for k in range(len(mat1[0])):\n",
    "                out[i][j] += mat1[i][k] * mat2[k][j]\n",
    "    return out\n",
    "\n",
    "print(matmul(mat_numpy, mat_numpy))\n",
    "print(matmul_list(mat_list, mat_list)) \n",
    "print(mat_numpy @ mat_numpy)"
   ]
  },
  {
   "cell_type": "code",
   "execution_count": null,
   "metadata": {},
   "outputs": [],
   "source": [
    "%timeit (matmul(mat_numpy, mat_numpy))\n",
    "%timeit (matmul_list(mat_list, mat_list)) \n",
    "%timeit (mat_numpy @ mat_numpy)"
   ]
  },
  {
   "cell_type": "markdown",
   "metadata": {},
   "source": [
    "## Array Creation"
   ]
  },
  {
   "cell_type": "code",
   "execution_count": null,
   "metadata": {},
   "outputs": [],
   "source": [
    "a = np.array([1,2,3,4])\n",
    "print(a, a.shape, a.dtype, a.ndim)"
   ]
  },
  {
   "cell_type": "code",
   "execution_count": null,
   "metadata": {},
   "outputs": [],
   "source": [
    "b = np.array([[1,2],[3,4]])\n",
    "print(b, b.shape, b.dtype, b.ndim)"
   ]
  },
  {
   "cell_type": "code",
   "execution_count": null,
   "metadata": {},
   "outputs": [],
   "source": [
    "c = np.array([1,2,3,4], dtype=np.float)\n",
    "print(c, c.shape, c.dtype, c.ndim)"
   ]
  },
  {
   "cell_type": "code",
   "execution_count": null,
   "metadata": {},
   "outputs": [],
   "source": [
    "np.zeros((3,4))"
   ]
  },
  {
   "cell_type": "code",
   "execution_count": null,
   "metadata": {},
   "outputs": [],
   "source": [
    "np.ones((2,3,4), dtype=np.int16)"
   ]
  },
  {
   "cell_type": "code",
   "execution_count": null,
   "metadata": {},
   "outputs": [],
   "source": [
    "np.eye(3)"
   ]
  },
  {
   "cell_type": "code",
   "execution_count": null,
   "metadata": {},
   "outputs": [],
   "source": [
    "np.arange(10, 30, 5)"
   ]
  },
  {
   "cell_type": "code",
   "execution_count": null,
   "metadata": {},
   "outputs": [],
   "source": [
    "np.linspace(0, 1, 11)"
   ]
  },
  {
   "cell_type": "code",
   "execution_count": null,
   "metadata": {},
   "outputs": [],
   "source": [
    "np.logspace(1, 2, 4)"
   ]
  },
  {
   "cell_type": "code",
   "execution_count": null,
   "metadata": {},
   "outputs": [],
   "source": [
    "np.random.rand(5)"
   ]
  },
  {
   "cell_type": "markdown",
   "metadata": {},
   "source": [
    "## Mathematic"
   ]
  },
  {
   "cell_type": "code",
   "execution_count": null,
   "metadata": {},
   "outputs": [],
   "source": [
    "np.ones((2,2)) * 2 + 3"
   ]
  },
  {
   "cell_type": "code",
   "execution_count": null,
   "metadata": {},
   "outputs": [],
   "source": [
    "np.ones(3) + np.arange(3)"
   ]
  },
  {
   "cell_type": "code",
   "execution_count": null,
   "metadata": {},
   "outputs": [],
   "source": [
    "mat = np.random.rand(4,4)\n",
    "vec = np.arange(4)\n",
    "np.dot(mat,vec)"
   ]
  },
  {
   "cell_type": "code",
   "execution_count": null,
   "metadata": {},
   "outputs": [],
   "source": [
    "np.einsum(\"ij,j->ij\",mat,vec)"
   ]
  },
  {
   "cell_type": "code",
   "execution_count": null,
   "metadata": {},
   "outputs": [],
   "source": [
    "mat @ mat"
   ]
  },
  {
   "cell_type": "code",
   "execution_count": null,
   "metadata": {},
   "outputs": [],
   "source": [
    "mat * mat"
   ]
  },
  {
   "cell_type": "markdown",
   "metadata": {},
   "source": [
    "## Array reshaping"
   ]
  },
  {
   "cell_type": "code",
   "execution_count": null,
   "metadata": {},
   "outputs": [],
   "source": [
    "b = np.array([[1,2],[3,4]])\n",
    "b.ravel()"
   ]
  },
  {
   "cell_type": "code",
   "execution_count": null,
   "metadata": {},
   "outputs": [],
   "source": [
    "b.transpose()"
   ]
  },
  {
   "cell_type": "code",
   "execution_count": null,
   "metadata": {},
   "outputs": [],
   "source": [
    "np.arange(12).reshape(3,4)"
   ]
  },
  {
   "cell_type": "markdown",
   "metadata": {},
   "source": [
    "## Reduction, stats"
   ]
  },
  {
   "cell_type": "code",
   "execution_count": null,
   "metadata": {},
   "outputs": [],
   "source": [
    "mat = np.random.rand(4,3)\n",
    "np.min(mat)"
   ]
  },
  {
   "cell_type": "code",
   "execution_count": null,
   "metadata": {},
   "outputs": [],
   "source": [
    "np.mean(mat, axis=0)"
   ]
  },
  {
   "cell_type": "code",
   "execution_count": null,
   "metadata": {},
   "outputs": [],
   "source": [
    "np.sum(mat, axis=1)"
   ]
  },
  {
   "cell_type": "code",
   "execution_count": null,
   "metadata": {},
   "outputs": [],
   "source": [
    "np.cumsum(np.ones((3,3)), axis=0)"
   ]
  },
  {
   "cell_type": "code",
   "execution_count": null,
   "metadata": {},
   "outputs": [],
   "source": [
    "mat = np.random.rand(4,4)\n",
    "print(np.linalg.det(mat), np.trace(mat))"
   ]
  },
  {
   "cell_type": "markdown",
   "metadata": {},
   "source": [
    "## Vectorised Function"
   ]
  },
  {
   "cell_type": "code",
   "execution_count": null,
   "metadata": {},
   "outputs": [],
   "source": [
    "t = np.linspace(0, 4, 101)\n",
    "sin_t = np.sin(t)\n",
    "cos_t = np.cos(t)\n",
    "tan_t = np.tan(t)\n",
    "arcsin = np.arcsin(sin_t)\n",
    "sinh_t = np.sinh(t)\n",
    "arctan_t = np.arctan(t)\n",
    "arccosh_t = np.arcsinh(t)\n",
    "log_t = np.log(t+1)\n",
    "log10_t = np.log10(t+1)\n",
    "sqrt_t = np.sqrt(t)\n",
    "exp_t = np.exp(t)\n",
    "round_t = np.round(t,3)"
   ]
  },
  {
   "cell_type": "code",
   "execution_count": null,
   "metadata": {
    "scrolled": false
   },
   "outputs": [],
   "source": [
    "plt.plot(t, sin_t)\n",
    "plt.plot(t, arcsin)\n",
    "plt.plot(t, cos_t)\n",
    "plt.plot(t, arctan_t)\n",
    "plt.plot(t, log10_t)\n",
    "plt.plot(t, sqrt_t)"
   ]
  },
  {
   "cell_type": "markdown",
   "metadata": {},
   "source": [
    "## sort"
   ]
  },
  {
   "cell_type": "code",
   "execution_count": null,
   "metadata": {},
   "outputs": [],
   "source": [
    "np.sort(np.random.rand(10))"
   ]
  },
  {
   "cell_type": "markdown",
   "metadata": {},
   "source": [
    "## Exercises"
   ]
  },
  {
   "cell_type": "markdown",
   "metadata": {},
   "source": [
    "Faire une fonction qui vérifie qu'une matrix est symétrique. \n",
    "https://fr.wikipedia.org/wiki/Matrice_sym%C3%A9trique"
   ]
  },
  {
   "cell_type": "code",
   "execution_count": null,
   "metadata": {},
   "outputs": [],
   "source": [
    "Faire une fonction qui créer des matrices boites.\n",
    "5x4:\n",
    "    1, 1, 1, 1, 1,\n",
    "    1, 0, 0, 0, 1,\n",
    "    1, 0, 0, 0, 1,\n",
    "    1, 1, 1, 1, 1"
   ]
  },
  {
   "cell_type": "code",
   "execution_count": null,
   "metadata": {},
   "outputs": [],
   "source": [
    "Faire une fonction qui fait un histogramme."
   ]
  }
 ],
 "metadata": {
  "kernelspec": {
   "display_name": "Python 3",
   "language": "python",
   "name": "python3"
  },
  "language_info": {
   "codemirror_mode": {
    "name": "ipython",
    "version": 3
   },
   "file_extension": ".py",
   "mimetype": "text/x-python",
   "name": "python",
   "nbconvert_exporter": "python",
   "pygments_lexer": "ipython3",
   "version": "3.7.3"
  }
 },
 "nbformat": 4,
 "nbformat_minor": 2
}
