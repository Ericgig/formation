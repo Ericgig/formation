{
 "cells": [
  {
   "cell_type": "markdown",
   "metadata": {},
   "source": [
    "# Introduction à python\n",
    "\n",
    "http://swcarpentry.github.io/python-novice-inflammation/\n",
    "\n",
    "Maj-enter pour executer une case"
   ]
  },
  {
   "cell_type": "markdown",
   "metadata": {
    "collapsed": true
   },
   "source": [
    "## Variable\n"
   ]
  },
  {
   "cell_type": "code",
   "execution_count": 2,
   "metadata": {},
   "outputs": [
    {
     "data": {
      "text/plain": [
       "str"
      ]
     },
     "execution_count": 2,
     "metadata": {},
     "output_type": "execute_result"
    }
   ],
   "source": [
    "# Variable\n",
    "variable = \"valeur\"\n",
    "Entier = 1\n",
    "Float = 1.0\n",
    "Charactere = \"a\"\n",
    "String = \"Hello World\"\n",
    "Multiline_string = \"\"\"Hello,\n",
    "Voici une chaîne de charactere plus longue.\n",
    "En python3 c'est unicode: \n",
    "大丈夫 ♛ ᗈ ဪ Θ\"\"\"\n",
    "Liste = [1,2.3,\"ad\"]\n",
    "Liste[0] == 1\n",
    "Liste[-1] == \"ad\"\n",
    "Liste[:2] == [1,2.3]\n",
    "Liste_de_liste = [[1,2,3],[4,5,6],[7,8,9]]\n",
    "Liste_de_liste[1][0] == 4\n",
    "Tuple = (1,2.3,\"a\")   \n",
    "Tuple[0] == 1\n",
    "dictionaire = {1:\"1\", \"2\":2, 3:3.}\n",
    "dictionaire[1] == \"1\"\n",
    "dictionaire[\"2\"] == 2\n",
    "\n",
    "a,b,c = 1,2,3\n",
    "\n",
    "type(variable)\n"
   ]
  },
  {
   "cell_type": "code",
   "execution_count": 3,
   "metadata": {},
   "outputs": [
    {
     "name": "stdout",
     "output_type": "stream",
     "text": [
      "valeur\n",
      "Valeur\n",
      "Valeur 1 valeur\n",
      "<class 'str'>\n",
      "Help on built-in function print in module builtins:\n",
      "\n",
      "print(...)\n",
      "    print(value, ..., sep=' ', end='\\n', file=sys.stdout, flush=False)\n",
      "    \n",
      "    Prints the values to a stream, or to sys.stdout by default.\n",
      "    Optional keyword arguments:\n",
      "    file:  a file-like object (stream); defaults to the current sys.stdout.\n",
      "    sep:   string inserted between values, default a space.\n",
      "    end:   string appended after the last value, default a newline.\n",
      "    flush: whether to forcibly flush the stream.\n",
      "\n"
     ]
    }
   ],
   "source": [
    "# print\n",
    "print(variable)\n",
    "print(\"Valeur\")\n",
    "print(\"Valeur\",1, variable)\n",
    "print(type(variable))\n",
    "help(print)"
   ]
  },
  {
   "cell_type": "code",
   "execution_count": 5,
   "metadata": {},
   "outputs": [
    {
     "name": "stdout",
     "output_type": "stream",
     "text": [
      "1+3 = 4\n",
      "1.0-1 = 0.0\n",
      "1.5*1.0 = 1.5\n",
      "Entier*Float = 1.0\n",
      "1/2 = 0.5\n",
      "1//2 = 0\n",
      "5%2 = 1\n",
      "3**2 = 9\n",
      "String + ' ' + Charactere = Hello World a\n",
      "Liste + Liste = [1, 2.3, 'ad', 1, 2.3, 'ad']\n"
     ]
    }
   ],
   "source": [
    "# operation mathematique\n",
    "print(\"1+3 =\", 1+3)\n",
    "print(\"1.0-1 =\", 1.0-1)\n",
    "print(\"1.5*1.0 =\", 1.5*1.0)\n",
    "print(\"Entier*Float =\", Entier*Float)\n",
    "print(\"1/2 =\", 1/2)\n",
    "print(\"1//2 =\", 1//2)\n",
    "print(\"5%2 =\", 5%2)\n",
    "print(\"3**2 =\", 3**2)\n",
    "print(\"String + ' ' + Charactere =\", String + \" \" + Charactere)\n",
    "print(\"Liste + Liste =\", Liste+Liste)"
   ]
  },
  {
   "cell_type": "code",
   "execution_count": 70,
   "metadata": {},
   "outputs": [
    {
     "name": "stdout",
     "output_type": "stream",
     "text": [
      "0.00355844041937\n",
      "[[ 0.  0.  0.]\n",
      " [ 0.  0.  0.]]\n",
      "0.51645844156\n",
      "0.994279764823\n",
      "0.00355844041937\n",
      "float64\n",
      "(10, 10)\n"
     ]
    }
   ],
   "source": [
    "#numpy\n",
    "import numpy\n",
    "import numpy as np\n",
    "\n",
    "numpy.arange(10)\n",
    "data1d = numpy.random.random(50)\n",
    "print(data1d[20])\n",
    "\n",
    "data2d = numpy.zeros((10,10))+2\n",
    "print(data2d[5:-3,3:-4])\n",
    "\n",
    "print(np.mean(data1d))\n",
    "print(np.max(data1d))\n",
    "print(np.min(data1d))\n",
    "print(np.mean(data1d))\n",
    "print(np.max(data1d))\n",
    "print(np.min(data1d))\n",
    "print(data2d.dtype)\n",
    "print(data2d.shape)\n",
    "\n",
    "#data = numpy.loadtxt(fname='.csv', delimiter=',')"
   ]
  },
  {
   "cell_type": "code",
   "execution_count": 115,
   "metadata": {},
   "outputs": [
    {
     "data": {
      "image/png": "[encoded data removed]",
      "text/plain": [
       "<matplotlib.figure.Figure at 0x7f7a2da44668>"
      ]
     },
     "metadata": {},
     "output_type": "display_data"
    },
    {
     "data": {
      "image/png": "[encoded data removed]",
      "text/plain": [
       "<matplotlib.figure.Figure at 0x7f7a2da4b6a0>"
      ]
     },
     "metadata": {},
     "output_type": "display_data"
    }
   ],
   "source": [
    "# pyplot  \n",
    "# http://matplotlib.org/gallery/index.html\n",
    "import matplotlib.pyplot\n",
    "%matplotlib inline\n",
    "random_data = numpy.random.random((40,30))*(numpy.arange(30)*(29-numpy.arange(30)))**2\n",
    "matplotlib.pyplot.imshow(random_data,cmap=\"plasma\")\n",
    "matplotlib.pyplot.show()\n",
    "\n",
    "random_data = (numpy.random.randn((30)))*(numpy.arange(30)*(29-numpy.arange(30)))**2\n",
    "matplotlib.pyplot.plot(random_data)\n",
    "matplotlib.pyplot.show()\n"
   ]
  },
  {
   "cell_type": "markdown",
   "metadata": {
    "collapsed": true
   },
   "source": [
    "## Storing Multiple Values in Lists\n"
   ]
  },
  {
   "cell_type": "code",
   "execution_count": 75,
   "metadata": {
    "collapsed": true
   },
   "outputs": [],
   "source": [
    "odds = [1, 3, 5, 7]\n",
    "names = ['Newton', 'Darwing', 'Turing']\n",
    "names[1] = 'Darwin'\n",
    "name = 'Darwin'\n",
    "#name[0] = 'd' Can't modify strings"
   ]
  },
  {
   "cell_type": "code",
   "execution_count": 76,
   "metadata": {},
   "outputs": [
    {
     "name": "stdout",
     "output_type": "stream",
     "text": [
      "[3, 5, 7, 9]\n",
      "[1, 3, 5, 7]\n"
     ]
    }
   ],
   "source": [
    "odds_2 = odds\n",
    "odds_3 = list(odds)\n",
    "odds.append(9)\n",
    "del odds[0]\n",
    "odds.reverse()\n",
    "print(odds_2)\n",
    "print(odds_3)"
   ]
  },
  {
   "cell_type": "code",
   "execution_count": 73,
   "metadata": {},
   "outputs": [
    {
     "name": "stdout",
     "output_type": "stream",
     "text": [
      "[['pepper', 'zucchini', 'onion']]\n",
      "['pepper', 'zucchini', 'onion']\n",
      "pepper\n"
     ]
    }
   ],
   "source": [
    "x = [['pepper', 'zucchini', 'onion'],\n",
    "     ['cabbage', 'lettuce', 'garlic'],\n",
    "     ['apple', 'pear', 'banana']]\n",
    "print([x[0]])\n",
    "print(x[0])\n",
    "print(x[0][0])"
   ]
  },
  {
   "cell_type": "markdown",
   "metadata": {
    "collapsed": true
   },
   "source": [
    "## Repeating Actions with Loops"
   ]
  },
  {
   "cell_type": "code",
   "execution_count": 77,
   "metadata": {},
   "outputs": [
    {
     "name": "stdout",
     "output_type": "stream",
     "text": [
      "0\n",
      "1\n",
      "2\n",
      "3\n"
     ]
    }
   ],
   "source": [
    "liste = [0,1,2,3]\n",
    "for value in liste:\n",
    "    print(value)"
   ]
  },
  {
   "cell_type": "code",
   "execution_count": 80,
   "metadata": {},
   "outputs": [
    {
     "name": "stdout",
     "output_type": "stream",
     "text": [
      "4\n"
     ]
    },
    {
     "data": {
      "text/plain": [
       "True"
      ]
     },
     "execution_count": 80,
     "metadata": {},
     "output_type": "execute_result"
    }
   ],
   "source": [
    "length = 0\n",
    "for value in liste:\n",
    "    length = length +1\n",
    "print(length)\n",
    "value == liste[-1]"
   ]
  },
  {
   "cell_type": "code",
   "execution_count": 84,
   "metadata": {},
   "outputs": [
    {
     "data": {
      "text/plain": [
       "[0, 1, 2]"
      ]
     },
     "execution_count": 84,
     "metadata": {},
     "output_type": "execute_result"
    }
   ],
   "source": [
    "list(range(3))"
   ]
  },
  {
   "cell_type": "code",
   "execution_count": 83,
   "metadata": {},
   "outputs": [
    {
     "data": {
      "text/plain": [
       "[3, 5, 7, 9]"
      ]
     },
     "execution_count": 83,
     "metadata": {},
     "output_type": "execute_result"
    }
   ],
   "source": [
    "list(range(3, 10, 2))"
   ]
  },
  {
   "cell_type": "markdown",
   "metadata": {
    "collapsed": true
   },
   "source": [
    "## Analyzing Data from Multiple Files"
   ]
  },
  {
   "cell_type": "code",
   "execution_count": null,
   "metadata": {},
   "outputs": [],
   "source": [
    "import glob\n",
    "print(glob.glob('inflammation*.csv'))"
   ]
  },
  {
   "cell_type": "markdown",
   "metadata": {},
   "source": [
    "## Making Choices"
   ]
  },
  {
   "cell_type": "code",
   "execution_count": 92,
   "metadata": {},
   "outputs": [
    {
     "name": "stdout",
     "output_type": "stream",
     "text": [
      "True\n",
      "True\n",
      "True\n",
      "True\n",
      "True\n",
      "True\n",
      "True\n",
      "True\n",
      "True\n",
      "True\n"
     ]
    }
   ],
   "source": [
    "# True expression\n",
    "print(1==1)\n",
    "print(1!=2)\n",
    "print(2>1)\n",
    "print(1<2)\n",
    "print(1<=1)\n",
    "print(not False)\n",
    "print(True or False)\n",
    "print(True and True)\n",
    "print(1 in [1,2,3])\n",
    "print(\"a\" in \"abc\")\n"
   ]
  },
  {
   "cell_type": "code",
   "execution_count": 91,
   "metadata": {},
   "outputs": [
    {
     "name": "stdout",
     "output_type": "stream",
     "text": [
      "False\n",
      "False\n",
      "False\n",
      "False\n",
      "False\n",
      "False\n"
     ]
    }
   ],
   "source": [
    "# False expression\n",
    "print(1==2)\n",
    "print(1!=1)\n",
    "print(2<1)\n",
    "print(1<1)\n",
    "print(not True)\n",
    "print(True and False)"
   ]
  },
  {
   "cell_type": "code",
   "execution_count": null,
   "metadata": {
    "collapsed": true
   },
   "outputs": [],
   "source": [
    "if(condition):\n",
    "    print(\"condition is true\")\n",
    "else:\n",
    "    print(\"condition is False\")"
   ]
  },
  {
   "cell_type": "code",
   "execution_count": null,
   "metadata": {
    "collapsed": true
   },
   "outputs": [],
   "source": [
    "if(condition):\n",
    "    print(\"condition1 is true\")\n",
    "elif(condition2):\n",
    "    print(\"condition2 is true, but condition1 is False\")\n",
    "else:\n",
    "    print(\"condition1 and condition2 is False\")"
   ]
  },
  {
   "cell_type": "markdown",
   "metadata": {},
   "source": [
    "## Creating Functions"
   ]
  },
  {
   "cell_type": "code",
   "execution_count": null,
   "metadata": {
    "collapsed": true
   },
   "outputs": [],
   "source": [
    "def function(parameter1, parameter2):\n",
    "    something = parameter1 + parameter2\n",
    "    return something"
   ]
  },
  {
   "cell_type": "code",
   "execution_count": null,
   "metadata": {
    "collapsed": true
   },
   "outputs": [],
   "source": [
    "def function(parameter1=1, parameter2=2, parameter3=3):\n",
    "    \"\"\"Documentation viens ici.\n",
    "function(parameter1=1, parameter2=2, parameter3=3)\"\"\"\n",
    "    something = parameter1 + parameter2 + parameter3\n",
    "    return something"
   ]
  },
  {
   "cell_type": "markdown",
   "metadata": {},
   "source": [
    "## Defensive Programming"
   ]
  },
  {
   "cell_type": "code",
   "execution_count": 94,
   "metadata": {},
   "outputs": [
    {
     "ename": "AssertionError",
     "evalue": "This",
     "output_type": "error",
     "traceback": [
      "\u001b[0;31m---------------------------------------------------------------------------\u001b[0m",
      "\u001b[0;31mAssertionError\u001b[0m                            Traceback (most recent call last)",
      "\u001b[0;32m<ipython-input-94-10158f39f302>\u001b[0m in \u001b[0;36m<module>\u001b[0;34m()\u001b[0m\n\u001b[0;32m----> 1\u001b[0;31m \u001b[0;32massert\u001b[0m \u001b[0;32mFalse\u001b[0m\u001b[0;34m,\u001b[0m \u001b[0;34m\"This\"\u001b[0m\u001b[0;34m\u001b[0m\u001b[0m\n\u001b[0m",
      "\u001b[0;31mAssertionError\u001b[0m: This"
     ]
    }
   ],
   "source": [
    "assert False, \"This\""
   ]
  },
  {
   "cell_type": "markdown",
   "metadata": {
    "collapsed": true
   },
   "source": [
    "## Command-Line Programs"
   ]
  },
  {
   "cell_type": "code",
   "execution_count": 96,
   "metadata": {},
   "outputs": [
    {
     "name": "stdout",
     "output_type": "stream",
     "text": [
      "3.5.3 | packaged by conda-forge | (default, Jan 23 2017, 19:01:48) \n",
      "[GCC 4.8.2 20140120 (Red Hat 4.8.2-15)]\n",
      "/home/eric/anaconda3/lib/python3.5/site-packages/ipykernel/__main__.py\n",
      "-f\n",
      "/run/user/1000/jupyter/kernel-c8697c0b-5e98-436a-b063-9c4c48d73537.json\n"
     ]
    }
   ],
   "source": [
    "import sys\n",
    "print(sys.version)\n",
    "for arg in sys.argv:\n",
    "    print(arg)"
   ]
  },
  {
   "cell_type": "code",
   "execution_count": null,
   "metadata": {
    "collapsed": true
   },
   "outputs": [],
   "source": [
    "if __name__ == '__main__':\n",
    "   main()"
   ]
  }
 ],
 "metadata": {
  "kernelspec": {
   "display_name": "Python 3",
   "language": "python",
   "name": "python3"
  },
  "language_info": {
   "codemirror_mode": {
    "name": "ipython",
    "version": 3
   },
   "file_extension": ".py",
   "mimetype": "text/x-python",
   "name": "python",
   "nbconvert_exporter": "python",
   "pygments_lexer": "ipython3",
   "version": "3.7.3"
  }
 },
 "nbformat": 4,
 "nbformat_minor": 2
}
