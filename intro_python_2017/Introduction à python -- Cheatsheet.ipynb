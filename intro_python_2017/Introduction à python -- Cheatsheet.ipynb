{
 "cells": [
  {
   "cell_type": "markdown",
   "metadata": {},
   "source": [
    "# Introduction à python\n",
    "\n",
    "http://swcarpentry.github.io/python-novice-inflammation/\n",
    "\n",
    "Maj-enter pour executer une case"
   ]
  },
  {
   "cell_type": "markdown",
   "metadata": {
    "collapsed": true
   },
   "source": [
    "## Variable\n"
   ]
  },
  {
   "cell_type": "code",
   "execution_count": null,
   "metadata": {},
   "outputs": [],
   "source": [
    "# Variable\n",
    "variable = \"valeur\"\n",
    "Entier = 1\n",
    "Float = 1.0\n",
    "Charactere = \"a\"\n",
    "String = \"Hello World\"\n",
    "Multiline_string = \"\"\"Hello,\n",
    "Voici une chaîne de charactere plus longue.\n",
    "En python3 c'est unicode: \n",
    "大丈夫 ♛ ᗈ ဪ Θ\"\"\"\n",
    "Liste = [1,2.3,\"ad\"]\n",
    "Liste[0] == 1\n",
    "Liste[-1] == \"ad\"\n",
    "Liste[:2] == [1,2.3]\n",
    "Liste_de_liste = [[1,2,3],[4,5,6],[7,8,9]]\n",
    "Liste_de_liste[1][0] == 4\n",
    "Tuple = (1,2.3,\"a\")   \n",
    "Tuple[0] == 1\n",
    "dictionaire = {1:\"1\", \"2\":2, 3:3.}\n",
    "dictionaire[1] == \"1\"\n",
    "dictionaire[\"2\"] == 2\n",
    "\n",
    "a,b,c = 1,2,3\n",
    "\n",
    "type(variable)\n"
   ]
  },
  {
   "cell_type": "code",
   "execution_count": 3,
   "metadata": {},
   "outputs": [
    {
     "data": {
      "text/plain": [
       "str"
      ]
     },
     "execution_count": 3,
     "metadata": {},
     "output_type": "execute_result"
    }
   ],
   "source": [
    "type('a')"
   ]
  },
  {
   "cell_type": "code",
   "execution_count": null,
   "metadata": {},
   "outputs": [],
   "source": [
    "# print\n",
    "print(variable)\n",
    "print(\"Valeur\")\n",
    "print(\"Valeur\",1, variable)\n",
    "print(type(variable))\n",
    "help(print)"
   ]
  },
  {
   "cell_type": "code",
   "execution_count": null,
   "metadata": {},
   "outputs": [],
   "source": [
    "# operation mathematique\n",
    "print(\"1+3 =\", 1+3)\n",
    "print(\"1.0-1 =\", 1.0-1)\n",
    "print(\"1.5*1.0 =\", 1.5*1.0)\n",
    "print(\"Entier*Float =\", Entier*Float)\n",
    "print(\"1/2 =\", 1/2)\n",
    "print(\"1//2 =\", 1//2)\n",
    "print(\"5%2 =\", 5%2)\n",
    "print(\"3**2 =\", 3**2)\n",
    "print(\"String + ' ' + Charactere =\", String + \" \" + Charactere)\n",
    "print(\"Liste + Liste =\", Liste+Liste)"
   ]
  },
  {
   "cell_type": "code",
   "execution_count": null,
   "metadata": {},
   "outputs": [],
   "source": [
    "#numpy\n",
    "import numpy\n",
    "import numpy as np\n",
    "\n",
    "numpy.arange(10)\n",
    "data1d = numpy.random.random(50)\n",
    "print(data1d[20])\n",
    "\n",
    "data2d = numpy.zeros((10,10))+2\n",
    "print(data2d[5:-3,3:-4])\n",
    "\n",
    "print(np.mean(data1d))\n",
    "print(np.max(data1d))\n",
    "print(np.min(data1d))\n",
    "print(np.mean(data1d))\n",
    "print(np.max(data1d))\n",
    "print(np.min(data1d))\n",
    "print(data2d.dtype)\n",
    "print(data2d.shape)\n",
    "\n",
    "#data = numpy.loadtxt(fname='.csv', delimiter=',')"
   ]
  },
  {
   "cell_type": "code",
   "execution_count": null,
   "metadata": {},
   "outputs": [],
   "source": [
    "# pyplot  \n",
    "# http://matplotlib.org/gallery/index.html\n",
    "import matplotlib.pyplot\n",
    "%matplotlib inline\n",
    "random_data = numpy.random.random((40,30))*(numpy.arange(30)*(29-numpy.arange(30)))**2\n",
    "matplotlib.pyplot.imshow(random_data,cmap=\"plasma\")\n",
    "matplotlib.pyplot.show()\n",
    "\n",
    "random_data = (numpy.random.randn((30)))*(numpy.arange(30)*(29-numpy.arange(30)))**2\n",
    "matplotlib.pyplot.plot(random_data)\n",
    "matplotlib.pyplot.show()\n"
   ]
  },
  {
   "cell_type": "markdown",
   "metadata": {
    "collapsed": true
   },
   "source": [
    "## Storing Multiple Values in Lists\n"
   ]
  },
  {
   "cell_type": "code",
   "execution_count": null,
   "metadata": {},
   "outputs": [],
   "source": [
    "odds = [1, 3, 5, 7]\n",
    "names = ['Newton', 'Darwing', 'Turing']\n",
    "names[1] = 'Darwin'\n",
    "name = 'Darwin'\n",
    "#name[0] = 'd' Can't modify strings"
   ]
  },
  {
   "cell_type": "code",
   "execution_count": null,
   "metadata": {},
   "outputs": [],
   "source": [
    "odds_2 = odds\n",
    "odds_3 = list(odds)\n",
    "odds.append(9)\n",
    "del odds[0]\n",
    "odds.reverse()\n",
    "print(odds_2)\n",
    "print(odds_3)"
   ]
  },
  {
   "cell_type": "code",
   "execution_count": null,
   "metadata": {},
   "outputs": [],
   "source": [
    "x = [['pepper', 'zucchini', 'onion'],\n",
    "     ['cabbage', 'lettuce', 'garlic'],\n",
    "     ['apple', 'pear', 'banana']]\n",
    "print([x[0]])\n",
    "print(x[0])\n",
    "print(x[0][0])"
   ]
  },
  {
   "cell_type": "markdown",
   "metadata": {
    "collapsed": true
   },
   "source": [
    "## Repeating Actions with Loops"
   ]
  },
  {
   "cell_type": "code",
   "execution_count": null,
   "metadata": {},
   "outputs": [],
   "source": [
    "liste = [0,1,2,3]\n",
    "for value in liste:\n",
    "    print(value)"
   ]
  },
  {
   "cell_type": "code",
   "execution_count": null,
   "metadata": {},
   "outputs": [],
   "source": [
    "length = 0\n",
    "for value in liste:\n",
    "    length = length +1\n",
    "print(length)\n",
    "value == liste[-1]"
   ]
  },
  {
   "cell_type": "code",
   "execution_count": null,
   "metadata": {},
   "outputs": [],
   "source": [
    "list(range(3))"
   ]
  },
  {
   "cell_type": "code",
   "execution_count": null,
   "metadata": {},
   "outputs": [],
   "source": [
    "list(range(3, 10, 2))"
   ]
  },
  {
   "cell_type": "markdown",
   "metadata": {
    "collapsed": true
   },
   "source": [
    "## Analyzing Data from Multiple Files"
   ]
  },
  {
   "cell_type": "code",
   "execution_count": null,
   "metadata": {},
   "outputs": [],
   "source": [
    "import glob\n",
    "print(glob.glob('inflammation*.csv'))"
   ]
  },
  {
   "cell_type": "markdown",
   "metadata": {},
   "source": [
    "## Making Choices"
   ]
  },
  {
   "cell_type": "code",
   "execution_count": null,
   "metadata": {},
   "outputs": [],
   "source": [
    "# True expression\n",
    "print(1==1)\n",
    "print(1!=2)\n",
    "print(2>1)\n",
    "print(1<2)\n",
    "print(1<=1)\n",
    "print(not False)\n",
    "print(True or False)\n",
    "print(True and True)\n",
    "print(1 in [1,2,3])\n",
    "print(\"a\" in \"abc\")\n"
   ]
  },
  {
   "cell_type": "code",
   "execution_count": null,
   "metadata": {},
   "outputs": [],
   "source": [
    "# False expression\n",
    "print(1==2)\n",
    "print(1!=1)\n",
    "print(2<1)\n",
    "print(1<1)\n",
    "print(not True)\n",
    "print(True and False)"
   ]
  },
  {
   "cell_type": "code",
   "execution_count": null,
   "metadata": {},
   "outputs": [],
   "source": [
    "condition = True if np.random.rand() > 0.5 else False\n",
    "if condition:\n",
    "    print(\"condition is True\")\n",
    "else:\n",
    "    print(\"condition is False\")"
   ]
  },
  {
   "cell_type": "code",
   "execution_count": null,
   "metadata": {},
   "outputs": [],
   "source": [
    "condition2 = True if np.random.rand() > 0.5 else False\n",
    "if(condition):\n",
    "    print(\"condition1 is true\")\n",
    "elif(condition2):\n",
    "    print(\"condition2 is true, but condition1 is False\")\n",
    "else:\n",
    "    print(\"condition1 and condition2 are False\")"
   ]
  },
  {
   "cell_type": "markdown",
   "metadata": {},
   "source": [
    "## Creating Functions"
   ]
  },
  {
   "cell_type": "code",
   "execution_count": null,
   "metadata": {},
   "outputs": [],
   "source": [
    "def function(parameter1, parameter2):\n",
    "    something = parameter1 + parameter2\n",
    "    return something"
   ]
  },
  {
   "cell_type": "code",
   "execution_count": null,
   "metadata": {},
   "outputs": [],
   "source": [
    "def function(parameter1=1, parameter2=2, parameter3=3):\n",
    "    \"\"\"Documentation viens ici.\n",
    "function(parameter1=1, parameter2=2, parameter3=3)\"\"\"\n",
    "    something = parameter1 + parameter2 + parameter3\n",
    "    return something"
   ]
  },
  {
   "cell_type": "markdown",
   "metadata": {},
   "source": [
    "## Defensive Programming"
   ]
  },
  {
   "cell_type": "code",
   "execution_count": null,
   "metadata": {},
   "outputs": [],
   "source": [
    "assert False, \"This\""
   ]
  },
  {
   "cell_type": "markdown",
   "metadata": {
    "collapsed": true
   },
   "source": [
    "## Command-Line Programs"
   ]
  },
  {
   "cell_type": "code",
   "execution_count": null,
   "metadata": {},
   "outputs": [],
   "source": [
    "import sys\n",
    "print(sys.version)\n",
    "for arg in sys.argv:\n",
    "    print(arg)"
   ]
  },
  {
   "cell_type": "code",
   "execution_count": null,
   "metadata": {},
   "outputs": [],
   "source": [
    "if __name__ == '__main__':\n",
    "   main()"
   ]
  }
 ],
 "metadata": {
  "kernelspec": {
   "display_name": "Python 3",
   "language": "python",
   "name": "python3"
  },
  "language_info": {
   "codemirror_mode": {
    "name": "ipython",
    "version": 3
   },
   "file_extension": ".py",
   "mimetype": "text/x-python",
   "name": "python",
   "nbconvert_exporter": "python",
   "pygments_lexer": "ipython3",
   "version": "3.7.3"
  }
 },
 "nbformat": 4,
 "nbformat_minor": 2
}
